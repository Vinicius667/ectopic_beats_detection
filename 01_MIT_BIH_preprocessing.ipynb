{
 "cells": [
  {
   "cell_type": "code",
   "execution_count": null,
   "metadata": {},
   "outputs": [],
   "source": [
    "from utils import *\n",
    "from scipy.fft import fft, fftfreq\n",
    "from matplotlib import pyplot as plt"
   ]
  },
  {
   "cell_type": "code",
   "execution_count": null,
   "metadata": {},
   "outputs": [],
   "source": [
    "df_record_lead_ann = pd.read_parquet(join(dataframes_directory, 'df_record_lead_ann.parquet'))\n",
    "df_lead_ann_summery =  pd.read_parquet(join(dataframes_directory, 'df_lead_ann_summery.parquet'))"
   ]
  },
  {
   "cell_type": "code",
   "execution_count": null,
   "metadata": {},
   "outputs": [],
   "source": [
    "list_leads = ['MLII']#, 'V1']\n",
    "mask_leads = df_record_lead_ann.upper_signal.isin(list_leads)# & df_record_lead_ann.lower_signal.isin(list_leads)\n",
    "# filter leads\n",
    "df_record_lead_ann = df_record_lead_ann[mask_leads].reset_index(drop=True)"
   ]
  },
  {
   "cell_type": "code",
   "execution_count": null,
   "metadata": {},
   "outputs": [],
   "source": [
    "df_record_lead_ann#.head()"
   ]
  },
  {
   "cell_type": "code",
   "execution_count": null,
   "metadata": {},
   "outputs": [],
   "source": [
    "# create figure with subplots\n",
    "fig, axes = plt.subplots(df_record_lead_ann.shape[0], 1, figsize=(5, 80))\n",
    "\n",
    "# Tight layout often produces nice results\n",
    "# but requires the title to be spaced accordingly\n",
    "fig.tight_layout()\n",
    "\n",
    "\n",
    "for plot_num, record_num in enumerate(df_record_lead_ann.record):\n",
    "    ax = axes[plot_num]\n",
    "    record, ann =  load_record(record_num)\n",
    "    signal = record.p_signal[:,0]\n",
    "    N = signal.shape[0]\n",
    "    fs = record.fs\n",
    "    T = 1/fs\n",
    "    yf = 2.0/N *np.abs(fft(signal)[:N//2])\n",
    "    xf = fftfreq(N, T)[:N//2]\n",
    "    ax.plot(xf[1:], yf[1:])\n",
    "    ax.set_xlim(-1, fs/2)\n",
    "    ax.grid()\n",
    "    ax.set_title(f'{record_num} {df_record_lead_ann.upper_signal[plot_num]}')\n",
    "fig.savefig(join(figures_directory, 'MLII_spectrum.svg'), dpi=300)\n"
   ]
  }
 ],
 "metadata": {
  "kernelspec": {
   "display_name": "ML",
   "language": "python",
   "name": "python3"
  },
  "language_info": {
   "codemirror_mode": {
    "name": "ipython",
    "version": 3
   },
   "file_extension": ".py",
   "mimetype": "text/x-python",
   "name": "python",
   "nbconvert_exporter": "python",
   "pygments_lexer": "ipython3",
   "version": "3.9.16"
  },
  "orig_nbformat": 4,
  "vscode": {
   "interpreter": {
    "hash": "4f021b72c1f7cd3898f2a25ac030750b22d22f61570d94b028ffadc231687c12"
   }
  }
 },
 "nbformat": 4,
 "nbformat_minor": 2
}
