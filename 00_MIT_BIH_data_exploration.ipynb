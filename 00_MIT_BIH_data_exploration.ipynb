{
 "cells": [
  {
   "cell_type": "code",
   "execution_count": null,
   "metadata": {},
   "outputs": [],
   "source": [
    "from utils import *\n",
    "from glob import glob"
   ]
  },
  {
   "attachments": {},
   "cell_type": "markdown",
   "metadata": {},
   "source": [
    "Source: https://archive.physionet.org/physiobank/database/html/mitdbdir/\n",
    "\n",
    "# Selection criteria\n",
    "The source of the ECGs included in the MIT-BIH Arrhythmia Database is a set of over 4000 long-term Holter recordings that were obtained by the Beth Israel Hospital Arrhythmia Laboratory between 1975 and 1979. Approximately 60% of these recordings were obtained from inpatients. The database contains 23 records (numbered from 100 to 124 inclusive with some numbers missing) chosen at random from this set, and 25 records (numbered from 200 to 234 inclusive, again with some numbers missing) selected from the same set to include a variety of rare but clinically important phenomena that would not be well-represented by a small random sample of Holter recordings. Each of the 48 records is slightly over 30 minutes long.\n",
    "\n",
    "The first group is intended to serve as a representative sample of the variety of waveforms and artifact that an arrhythmia detector might encounter in routine clinical use. A table of random numbers was used to select tapes, and then to select half-hour segments of them. Segments selected in this way were excluded only if neither of the two ECG signals was of adequate quality for analysis by human experts.\n",
    "\n",
    "Records in the second group were chosen to include complex ventricular, junctional, and supraventricular arrhythmias and conduction abnormalities. Several of these records were selected because features of the rhythm, QRS morphology variation, or signal quality may be expected to present significant difficulty to arrhythmia detectors; these records have gained considerable notoriety among database users.\n",
    "\n",
    "The subjects were 25 men aged 32 to 89 years, and 22 women aged 23 to 89 years. (Records 201 and 202 came from the same male subject.)\n"
   ]
  },
  {
   "attachments": {},
   "cell_type": "markdown",
   "metadata": {},
   "source": [
    "# Data Exploration"
   ]
  },
  {
   "cell_type": "code",
   "execution_count": null,
   "metadata": {},
   "outputs": [],
   "source": [
    "# Load data from MIT-BIH Arrhythmia Database\n",
    "# https://physionet.org/content/mitdb/1.0.0/\n",
    "\n",
    "dict_signals = {}\n",
    "list_annotations = []\n",
    "list_symbols = []\n",
    "\n",
    "\n",
    "files = glob(f'{mb_artm_directory}*dat')\n",
    "for file in files:\n",
    "    record_path = file.replace(\".dat\",'')\n",
    "    record = wfdb.rdrecord(record_path)\n",
    "    dict_signals[(record.record_name)] = record.sig_name\n",
    "    ann = wfdb.rdann(record_path,'atr')\n",
    "    dict_symbols_count = pd.Series(ann.symbol).value_counts().to_dict()\n",
    "    list_symbols += list(dict_symbols_count.keys())\n",
    "    list_annotations.append(dict_symbols_count)\n",
    "columns = ['upper_signal', 'lower_signal']\n",
    "\n",
    "# Dataframe with lead configurations for upper and lower signals for each record\n",
    "df_record_lead = pd.DataFrame(dict_signals, index=columns).T.reset_index().rename(columns={'index':'record'})\n",
    "df_record_lead.record = df_record_lead.record.astype(np.int32)\n",
    "df_record_lead['group'] = 'random'\n",
    "df_record_lead.loc[df_record_lead.record >= 200, 'group'] = 'selected'\n",
    "\n",
    "\n",
    "# Dataframe with the number of configurations for upper and lower signals\n",
    "df_record_lead_summery = df_record_lead.groupby(['group', 'upper_signal','lower_signal']).count().reset_index().sort_values('record', ascending=False, ignore_index=True)\n",
    "\n",
    "# Dataframe with the number of annotations for each record\n",
    "df_ann = pd.DataFrame(list_annotations).fillna(0)\n",
    "df_ann = df_ann.astype(int)\n",
    "df_ann.insert(0, 'record', df_record_lead.record)\n",
    "\n",
    "# Display first values of dataframes\n",
    "print(\"df_record_lead\")\n",
    "display(df_record_lead.head())\n",
    "\n",
    "print(\"df_record_lead_summery\")\n",
    "display(df_record_lead_summery)\n",
    "\n",
    "print(\"df_ann\")\n",
    "display(df_ann.head())"
   ]
  },
  {
   "cell_type": "code",
   "execution_count": null,
   "metadata": {},
   "outputs": [],
   "source": [
    "set(list_symbols)"
   ]
  },
  {
   "cell_type": "code",
   "execution_count": null,
   "metadata": {},
   "outputs": [],
   "source": [
    "# Dataframe with description of each annotation code\n",
    "df_code_description = pd.concat(pd.read_html(\"https://archive.physionet.org/physiobank/annotations.shtml\")[:2])[['Code', 'Description']].dropna().reset_index(drop=True)\n",
    "\n",
    "# Display first values of dataframe\n",
    "print(\"df_code_description\")\n",
    "df_code_description.head()"
   ]
  },
  {
   "cell_type": "code",
   "execution_count": null,
   "metadata": {},
   "outputs": [],
   "source": [
    "series_beat_codes = df_code_description.Code.iloc[:19]\n",
    "print(series_beat_codes)"
   ]
  },
  {
   "cell_type": "code",
   "execution_count": null,
   "metadata": {},
   "outputs": [],
   "source": [
    "# Dataframe with the number of annotations for each code and the respective description\n",
    "df_ann_summery =  df_ann[df_ann.columns.to_list()[:-1]].sum(axis=0).reset_index().rename(columns={'index':'Code', 0:'Count'}).merge(df_code_description, on='Code').sort_values('Count', ascending=False).reset_index(drop=True)\n",
    "\n",
    "# Display dataframe\n",
    "df_ann_summery"
   ]
  },
  {
   "cell_type": "code",
   "execution_count": null,
   "metadata": {},
   "outputs": [],
   "source": [
    "# Create a more comprehensive summery with number of annotations for each code for each lead configuration \n",
    "\n",
    "df_record_lead_ann = df_record_lead.merge(df_ann, on='record')\n",
    "\n",
    "\n",
    "df_lead_ann_summery = df_record_lead_ann.groupby(['group','upper_signal','lower_signal'])[df_ann_summery.Code[:-1]].sum().reset_index().sort_values('N', ascending=False, ignore_index= True)\n",
    "\n",
    "# Display first values of dataframe\n",
    "\n",
    "print(\"df_record_lead_ann\")\n",
    "display(df_record_lead_ann.head())\n",
    "\n",
    "print(\"df_lead_ann_summery\")\n",
    "display(df_lead_ann_summery)"
   ]
  },
  {
   "cell_type": "code",
   "execution_count": null,
   "metadata": {},
   "outputs": [],
   "source": [
    "df_record_lead_ann.to_parquet(join(dataframes_directory, 'df_record_lead_ann.parquet'))\n",
    "df_lead_ann_summery.to_parquet(join(dataframes_directory, 'df_lead_ann_summery.parquet'))"
   ]
  },
  {
   "attachments": {},
   "cell_type": "markdown",
   "metadata": {},
   "source": [
    "# Conclusions\n",
    "\n",
    "- The majority of the records use the MLII-V1 lead configuration (40/48)\n",
    "- In the random selected records, 15 out of 23 use the MLII-V1 lead configuration\n",
    "- In the specially selected records, all 25 records use the MLII-V1 lead configuration"
   ]
  }
 ],
 "metadata": {
  "kernelspec": {
   "display_name": "ML",
   "language": "python",
   "name": "python3"
  },
  "language_info": {
   "codemirror_mode": {
    "name": "ipython",
    "version": 3
   },
   "file_extension": ".py",
   "mimetype": "text/x-python",
   "name": "python",
   "nbconvert_exporter": "python",
   "pygments_lexer": "ipython3",
   "version": "3.9.16"
  },
  "orig_nbformat": 4,
  "vscode": {
   "interpreter": {
    "hash": "4f021b72c1f7cd3898f2a25ac030750b22d22f61570d94b028ffadc231687c12"
   }
  }
 },
 "nbformat": 4,
 "nbformat_minor": 2
}
