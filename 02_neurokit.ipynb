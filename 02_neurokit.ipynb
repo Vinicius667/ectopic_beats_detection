{
 "cells": [
  {
   "cell_type": "code",
   "execution_count": null,
   "metadata": {},
   "outputs": [],
   "source": [
    "from utils import *\n",
    "import neurokit2 as nk\n",
    "import pandas as pd\n",
    "import matplotlib.pyplot as plt\n",
    "import plotly.graph_objects as go\n",
    "import numpy as np\n",
    "import pyarrow as pa"
   ]
  },
  {
   "cell_type": "code",
   "execution_count": null,
   "metadata": {},
   "outputs": [],
   "source": [
    "def find_peaks(ecg, sampling_rate, method):\n",
    "    signal, info = nk.ecg_peaks(ecg, sampling_rate=sampling_rate, method=method)\n",
    "    return info[\"ECG_R_Peaks\"]\n",
    "\n",
    "\n",
    "def rolling_idxmax(series, window_size, closed = 'both', center = False, **kwargs):\n",
    "    return series.rolling(window_size, closed = closed, center = center, **kwargs).apply(lambda x: x.idxmax()).dropna(ignore_index = True).astype(int)"
   ]
  },
  {
   "cell_type": "code",
   "execution_count": null,
   "metadata": {},
   "outputs": [],
   "source": [
    "record_num = 103\n",
    "record, ann =  load_record(record_num)\n",
    "fs = record.fs\n",
    "\n",
    "total_time = 30 # seconds\n",
    "offset = 60 # seconds\n",
    "samples = int(total_time * fs)\n",
    "start_samples = int(offset * fs)\n",
    "end_samples = start_samples + samples\n",
    "discard_samples = 2 * fs # 2 seconds\n",
    "first_used_sample = start_samples + discard_samples"
   ]
  },
  {
   "cell_type": "code",
   "execution_count": null,
   "metadata": {},
   "outputs": [],
   "source": [
    "# ECG signal\n",
    "ecg = pd.Series(record.p_signal[:,0])[start_samples:end_samples]\n",
    "\n",
    "ann_samples = pd.Series(ann.sample)\n",
    "ann_symbols= pd.Series(ann.symbol)\n",
    "\n",
    "# Derised annotations (N - normal beat)\n",
    "derised_anns = ['N']\n",
    "\n",
    "# Mask for time window and derised annotations\n",
    "mask_time_window = (ann_samples >= start_samples) & (ann_samples < end_samples) \n",
    "mask_derised_ann = ann_symbols.isin(derised_anns)\n",
    "\n",
    "mask_not_discard = ann_samples >= first_used_sample\n",
    "\n",
    "mask_used_ann = mask_time_window & mask_derised_ann & mask_not_discard\n",
    "\n",
    "# Apply mask\n",
    "ann_samples = ann_samples[mask_used_ann]\n",
    "ann_symbols = ann_symbols[mask_used_ann]"
   ]
  },
  {
   "cell_type": "code",
   "execution_count": null,
   "metadata": {},
   "outputs": [],
   "source": [
    "methods=  ['hamilton2002', 'kalidas2017', 'rodrigues2020']\n",
    "\n",
    "dict_results = {}\n",
    "\n",
    "for method in methods:\n",
    "    result = find_peaks(ecg, fs, method)\n",
    "    # Fix index\n",
    "    result += start_samples\n",
    "    result = result[result >= first_used_sample]\n",
    "\n",
    "    # Store results in dict\n",
    "    dict_results[method] = result\n",
    "\n",
    "ecg = ecg.loc[first_used_sample:]"
   ]
  },
  {
   "cell_type": "code",
   "execution_count": null,
   "metadata": {},
   "outputs": [],
   "source": [
    "# Plot the ECG signal\n",
    "\n",
    "x_xis_factor = 1 #1/fs # 1/fs = seconds, 1 = samples\n",
    "\n",
    "fig = go.Figure()\n",
    "fig.add_trace(go.Scatter(x=ecg.index*x_xis_factor, y=ecg, name=\"ECG\"))\n",
    "\n",
    "# Plot the R peaks from the annotations\n",
    "fig.add_trace(go.Scatter(x=ann_samples*x_xis_factor, y=ecg.loc[ann_samples], mode=\"markers\", name=\"R peaks\", marker=dict(color=\"red\", size=7)))\n",
    "\n",
    "\n",
    "for method in methods:\n",
    "    result = dict_results[method]\n",
    "    fig.add_trace(go.Scatter(x=result*x_xis_factor, y=ecg.loc[result], mode=\"markers\", name=method, marker=dict(size=7)))\n",
    "\n",
    "\n",
    "# Plot the R peaks from the Hamilton method\n",
    "#fig.add_trace(go.Scatter(x=ann_samples_hamilton*x_xis_factor, y=ecg.loc[ann_samples_hamilton], mode=\"markers\", name=\"R peaks Hamilton\", marker=dict(color=\"green\", size=7)))\n",
    "\n",
    "# Plot the R peaks from the Kalidas method\n",
    "#fig.add_trace(go.Scatter(x=ann_samples_kalidas*x_xis_factor, y=ecg.loc[ann_samples_kalidas], mode=\"markers\", name=\"R peaks Kalidas\", marker=dict(color=\"blue\", size=7)))\n",
    "\n",
    "# Plot the R peaks from the Rodrigues method\n",
    "#fig.add_trace(go.Scatter(x=ann_samples_rodrigues*x_xis_factor, y=ecg.loc[ann_samples_rodrigues], mode=\"markers\", name=\"R peaks Rodrigues\", marker=dict(color=\"orange\", size=7)))\n",
    "\n",
    "\n",
    "\n",
    "#Define x zoom\n",
    "fig.update_xaxes(range=[first_used_sample * x_xis_factor, (first_used_sample + 10 * fs) * x_xis_factor ])\n",
    "\n",
    "# Remove borders\n",
    "fig.update_layout(\n",
    "    margin=dict(l=0, r=0, t=15, b=0),\n",
    "    paper_bgcolor=\"white\",\n",
    ")\n",
    "\n",
    "# Add range slider\n",
    "fig.update_layout(\n",
    "    xaxis=dict(\n",
    "        rangeslider=dict(\n",
    "            visible=True\n",
    "        ),\n",
    "        type=\"linear\"\n",
    "    )\n",
    ")"
   ]
  }
 ],
 "metadata": {
  "kernelspec": {
   "display_name": "ML",
   "language": "python",
   "name": "python3"
  },
  "language_info": {
   "codemirror_mode": {
    "name": "ipython",
    "version": 3
   },
   "file_extension": ".py",
   "mimetype": "text/x-python",
   "name": "python",
   "nbconvert_exporter": "python",
   "pygments_lexer": "ipython3",
   "version": "3.9.16 (main, Mar  8 2023, 10:39:24) [MSC v.1916 64 bit (AMD64)]"
  },
  "orig_nbformat": 4,
  "vscode": {
   "interpreter": {
    "hash": "4f021b72c1f7cd3898f2a25ac030750b22d22f61570d94b028ffadc231687c12"
   }
  }
 },
 "nbformat": 4,
 "nbformat_minor": 2
}
